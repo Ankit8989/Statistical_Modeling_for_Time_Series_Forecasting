{
 "cells": [
  {
   "cell_type": "markdown",
   "metadata": {
    "toc": true
   },
   "source": [
    "<h1>Table of Contents<span class=\"tocSkip\"></span></h1>\n",
    "<div class=\"toc\"><ul class=\"toc-item\"><li><span><a href=\"#Importing-Required-Packages\" data-toc-modified-id=\"Importing-Required-Packages-1\"><span class=\"toc-item-num\">1&nbsp;&nbsp;</span>Importing Required Packages</a></span></li><li><span><a href=\"#Importing-Dataset\" data-toc-modified-id=\"Importing-Dataset-2\"><span class=\"toc-item-num\">2&nbsp;&nbsp;</span>Importing Dataset</a></span></li><li><span><a href=\"#Preprocessing-Data\" data-toc-modified-id=\"Preprocessing-Data-3\"><span class=\"toc-item-num\">3&nbsp;&nbsp;</span>Preprocessing Data</a></span><ul class=\"toc-item\"><li><span><a href=\"#Handling-Missing-Values\" data-toc-modified-id=\"Handling-Missing-Values-3.1\"><span class=\"toc-item-num\">3.1&nbsp;&nbsp;</span>Handling Missing Values</a></span></li><li><span><a href=\"#Calculating-Price-Returns\" data-toc-modified-id=\"Calculating-Price-Returns-3.2\"><span class=\"toc-item-num\">3.2&nbsp;&nbsp;</span>Calculating Price Returns</a></span></li><li><span><a href=\"#Normalized-Prices-and-Returns\" data-toc-modified-id=\"Normalized-Prices-and-Returns-3.3\"><span class=\"toc-item-num\">3.3&nbsp;&nbsp;</span>Normalized Prices and Returns</a></span></li><li><span><a href=\"#Volatility-(Squared-Returns)\" data-toc-modified-id=\"Volatility-(Squared-Returns)-3.4\"><span class=\"toc-item-num\">3.4&nbsp;&nbsp;</span>Volatility (Squared Returns)</a></span></li><li><span><a href=\"#Exporting-the-Dataframe\" data-toc-modified-id=\"Exporting-the-Dataframe-3.5\"><span class=\"toc-item-num\">3.5&nbsp;&nbsp;</span>Exporting the Dataframe</a></span></li><li><span><a href=\"#Importing-the-Dataframe\" data-toc-modified-id=\"Importing-the-Dataframe-3.6\"><span class=\"toc-item-num\">3.6&nbsp;&nbsp;</span>Importing the Dataframe</a></span></li></ul></li><li><span><a href=\"#Preliminary-Data-Visulaizations\" data-toc-modified-id=\"Preliminary-Data-Visulaizations-4\"><span class=\"toc-item-num\">4&nbsp;&nbsp;</span>Preliminary Data Visulaizations</a></span></li></ul></div>"
   ]
  },
  {
   "cell_type": "markdown",
   "metadata": {},
   "source": [
    "# Importing Required Packages"
   ]
  },
  {
   "cell_type": "code",
   "execution_count": 1,
   "metadata": {
    "ExecuteTime": {
     "end_time": "2020-10-02T07:24:40.753058Z",
     "start_time": "2020-10-02T07:24:38.879494Z"
    }
   },
   "outputs": [],
   "source": [
    "import pandas as pd\n",
    "import numpy as np\n",
    "import matplotlib.pyplot as plt\n",
    "import seaborn as sns\n",
    "\n",
    "import warnings\n",
    "\n",
    "from sklearn import preprocessing\n",
    "\n",
    "sns.set()\n",
    "warnings.filterwarnings(\"ignore\")"
   ]
  },
  {
   "cell_type": "markdown",
   "metadata": {},
   "source": [
    "Install **yfinance** if needed by un-commenting out this cell."
   ]
  },
  {
   "cell_type": "code",
   "execution_count": 2,
   "metadata": {
    "ExecuteTime": {
     "end_time": "2020-10-02T07:24:40.769020Z",
     "start_time": "2020-10-02T07:24:40.753058Z"
    }
   },
   "outputs": [],
   "source": [
    "# !pip install yfinance"
   ]
  },
  {
   "cell_type": "code",
   "execution_count": 3,
   "metadata": {
    "ExecuteTime": {
     "end_time": "2020-10-02T07:24:41.181269Z",
     "start_time": "2020-10-02T07:24:40.769020Z"
    }
   },
   "outputs": [],
   "source": [
    "import yfinance"
   ]
  },
  {
   "cell_type": "markdown",
   "metadata": {},
   "source": [
    "# Importing Dataset"
   ]
  },
  {
   "cell_type": "markdown",
   "metadata": {},
   "source": [
    "The dataset is taken from **yfinance**.\n",
    "\n",
    "It contains daily data from - **1994-01-07** to **2019-09-01** for the market index - **S&P 500**"
   ]
  },
  {
   "cell_type": "code",
   "execution_count": 4,
   "metadata": {
    "ExecuteTime": {
     "end_time": "2020-10-02T07:24:42.419368Z",
     "start_time": "2020-10-02T07:24:41.181269Z"
    }
   },
   "outputs": [
    {
     "name": "stdout",
     "output_type": "stream",
     "text": [
      "[*********************100%***********************]  4 of 4 completed\n"
     ]
    }
   ],
   "source": [
    "raw_data = yfinance.download (tickers = \"^GSPC ^FTSE ^N225 ^GDAXI\", start = \"1994-01-07\", \n",
    "                              end = \"2019-09-01\", interval = \"1d\", group_by = 'ticker', auto_adjust = True, treads = True)"
   ]
  },
  {
   "cell_type": "markdown",
   "metadata": {},
   "source": [
    "First few rows of the dataset are as follows."
   ]
  },
  {
   "cell_type": "code",
   "execution_count": 5,
   "metadata": {
    "ExecuteTime": {
     "end_time": "2020-10-02T07:24:42.467366Z",
     "start_time": "2020-10-02T07:24:42.419368Z"
    }
   },
   "outputs": [
    {
     "data": {
      "text/html": [
       "<div>\n",
       "<style scoped>\n",
       "    .dataframe tbody tr th:only-of-type {\n",
       "        vertical-align: middle;\n",
       "    }\n",
       "\n",
       "    .dataframe tbody tr th {\n",
       "        vertical-align: top;\n",
       "    }\n",
       "\n",
       "    .dataframe thead tr th {\n",
       "        text-align: left;\n",
       "    }\n",
       "\n",
       "    .dataframe thead tr:last-of-type th {\n",
       "        text-align: right;\n",
       "    }\n",
       "</style>\n",
       "<table border=\"1\" class=\"dataframe\">\n",
       "  <thead>\n",
       "    <tr>\n",
       "      <th></th>\n",
       "      <th colspan=\"5\" halign=\"left\">^FTSE</th>\n",
       "      <th colspan=\"5\" halign=\"left\">^GSPC</th>\n",
       "      <th colspan=\"5\" halign=\"left\">^GDAXI</th>\n",
       "      <th colspan=\"5\" halign=\"left\">^N225</th>\n",
       "    </tr>\n",
       "    <tr>\n",
       "      <th></th>\n",
       "      <th>Open</th>\n",
       "      <th>High</th>\n",
       "      <th>Low</th>\n",
       "      <th>Close</th>\n",
       "      <th>Volume</th>\n",
       "      <th>Open</th>\n",
       "      <th>High</th>\n",
       "      <th>Low</th>\n",
       "      <th>Close</th>\n",
       "      <th>Volume</th>\n",
       "      <th>Open</th>\n",
       "      <th>High</th>\n",
       "      <th>Low</th>\n",
       "      <th>Close</th>\n",
       "      <th>Volume</th>\n",
       "      <th>Open</th>\n",
       "      <th>High</th>\n",
       "      <th>Low</th>\n",
       "      <th>Close</th>\n",
       "      <th>Volume</th>\n",
       "    </tr>\n",
       "    <tr>\n",
       "      <th>Date</th>\n",
       "      <th></th>\n",
       "      <th></th>\n",
       "      <th></th>\n",
       "      <th></th>\n",
       "      <th></th>\n",
       "      <th></th>\n",
       "      <th></th>\n",
       "      <th></th>\n",
       "      <th></th>\n",
       "      <th></th>\n",
       "      <th></th>\n",
       "      <th></th>\n",
       "      <th></th>\n",
       "      <th></th>\n",
       "      <th></th>\n",
       "      <th></th>\n",
       "      <th></th>\n",
       "      <th></th>\n",
       "      <th></th>\n",
       "      <th></th>\n",
       "    </tr>\n",
       "  </thead>\n",
       "  <tbody>\n",
       "    <tr>\n",
       "      <th>1994-01-06</th>\n",
       "      <td>3355.300049</td>\n",
       "      <td>3407.699951</td>\n",
       "      <td>3355.300049</td>\n",
       "      <td>3403.000000</td>\n",
       "      <td>0.0</td>\n",
       "      <td>467.549988</td>\n",
       "      <td>469.000000</td>\n",
       "      <td>467.019989</td>\n",
       "      <td>467.119995</td>\n",
       "      <td>365960000.0</td>\n",
       "      <td>2228.090088</td>\n",
       "      <td>2228.489990</td>\n",
       "      <td>2206.459961</td>\n",
       "      <td>2220.629883</td>\n",
       "      <td>0.0</td>\n",
       "      <td>NaN</td>\n",
       "      <td>NaN</td>\n",
       "      <td>NaN</td>\n",
       "      <td>NaN</td>\n",
       "      <td>NaN</td>\n",
       "    </tr>\n",
       "    <tr>\n",
       "      <th>1994-01-07</th>\n",
       "      <td>3401.399902</td>\n",
       "      <td>3446.800049</td>\n",
       "      <td>3398.699951</td>\n",
       "      <td>3446.000000</td>\n",
       "      <td>0.0</td>\n",
       "      <td>467.089996</td>\n",
       "      <td>470.260010</td>\n",
       "      <td>467.029999</td>\n",
       "      <td>469.899994</td>\n",
       "      <td>324920000.0</td>\n",
       "      <td>2218.959961</td>\n",
       "      <td>2227.639893</td>\n",
       "      <td>2201.820068</td>\n",
       "      <td>2224.949951</td>\n",
       "      <td>0.0</td>\n",
       "      <td>17842.980469</td>\n",
       "      <td>18131.410156</td>\n",
       "      <td>17787.480469</td>\n",
       "      <td>18124.009766</td>\n",
       "      <td>0.0</td>\n",
       "    </tr>\n",
       "    <tr>\n",
       "      <th>1994-01-10</th>\n",
       "      <td>3465.699951</td>\n",
       "      <td>3468.100098</td>\n",
       "      <td>3430.000000</td>\n",
       "      <td>3440.600098</td>\n",
       "      <td>0.0</td>\n",
       "      <td>469.899994</td>\n",
       "      <td>475.269989</td>\n",
       "      <td>469.549988</td>\n",
       "      <td>475.269989</td>\n",
       "      <td>319490000.0</td>\n",
       "      <td>2231.840088</td>\n",
       "      <td>2238.010010</td>\n",
       "      <td>2222.000000</td>\n",
       "      <td>2225.000000</td>\n",
       "      <td>0.0</td>\n",
       "      <td>18186.519531</td>\n",
       "      <td>18567.060547</td>\n",
       "      <td>18186.519531</td>\n",
       "      <td>18443.439453</td>\n",
       "      <td>0.0</td>\n",
       "    </tr>\n",
       "    <tr>\n",
       "      <th>1994-01-11</th>\n",
       "      <td>3442.500000</td>\n",
       "      <td>3442.500000</td>\n",
       "      <td>3413.500000</td>\n",
       "      <td>3413.800049</td>\n",
       "      <td>0.0</td>\n",
       "      <td>475.269989</td>\n",
       "      <td>475.279999</td>\n",
       "      <td>473.269989</td>\n",
       "      <td>474.130005</td>\n",
       "      <td>305490000.0</td>\n",
       "      <td>2225.429932</td>\n",
       "      <td>2235.610107</td>\n",
       "      <td>2225.179932</td>\n",
       "      <td>2228.100098</td>\n",
       "      <td>0.0</td>\n",
       "      <td>18481.849609</td>\n",
       "      <td>18671.669922</td>\n",
       "      <td>18373.039062</td>\n",
       "      <td>18485.250000</td>\n",
       "      <td>0.0</td>\n",
       "    </tr>\n",
       "    <tr>\n",
       "      <th>1994-01-12</th>\n",
       "      <td>3394.800049</td>\n",
       "      <td>3402.399902</td>\n",
       "      <td>3372.000000</td>\n",
       "      <td>3372.000000</td>\n",
       "      <td>0.0</td>\n",
       "      <td>474.130005</td>\n",
       "      <td>475.059998</td>\n",
       "      <td>472.140015</td>\n",
       "      <td>474.170013</td>\n",
       "      <td>310690000.0</td>\n",
       "      <td>2227.120117</td>\n",
       "      <td>2227.790039</td>\n",
       "      <td>2182.060059</td>\n",
       "      <td>2182.060059</td>\n",
       "      <td>0.0</td>\n",
       "      <td>18447.339844</td>\n",
       "      <td>18807.080078</td>\n",
       "      <td>18301.929688</td>\n",
       "      <td>18793.880859</td>\n",
       "      <td>0.0</td>\n",
       "    </tr>\n",
       "  </tbody>\n",
       "</table>\n",
       "</div>"
      ],
      "text/plain": [
       "                  ^FTSE                                                \\\n",
       "                   Open         High          Low        Close Volume   \n",
       "Date                                                                    \n",
       "1994-01-06  3355.300049  3407.699951  3355.300049  3403.000000    0.0   \n",
       "1994-01-07  3401.399902  3446.800049  3398.699951  3446.000000    0.0   \n",
       "1994-01-10  3465.699951  3468.100098  3430.000000  3440.600098    0.0   \n",
       "1994-01-11  3442.500000  3442.500000  3413.500000  3413.800049    0.0   \n",
       "1994-01-12  3394.800049  3402.399902  3372.000000  3372.000000    0.0   \n",
       "\n",
       "                 ^GSPC                                                   \\\n",
       "                  Open        High         Low       Close       Volume   \n",
       "Date                                                                      \n",
       "1994-01-06  467.549988  469.000000  467.019989  467.119995  365960000.0   \n",
       "1994-01-07  467.089996  470.260010  467.029999  469.899994  324920000.0   \n",
       "1994-01-10  469.899994  475.269989  469.549988  475.269989  319490000.0   \n",
       "1994-01-11  475.269989  475.279999  473.269989  474.130005  305490000.0   \n",
       "1994-01-12  474.130005  475.059998  472.140015  474.170013  310690000.0   \n",
       "\n",
       "                 ^GDAXI                                                \\\n",
       "                   Open         High          Low        Close Volume   \n",
       "Date                                                                    \n",
       "1994-01-06  2228.090088  2228.489990  2206.459961  2220.629883    0.0   \n",
       "1994-01-07  2218.959961  2227.639893  2201.820068  2224.949951    0.0   \n",
       "1994-01-10  2231.840088  2238.010010  2222.000000  2225.000000    0.0   \n",
       "1994-01-11  2225.429932  2235.610107  2225.179932  2228.100098    0.0   \n",
       "1994-01-12  2227.120117  2227.790039  2182.060059  2182.060059    0.0   \n",
       "\n",
       "                   ^N225                                                   \n",
       "                    Open          High           Low         Close Volume  \n",
       "Date                                                                       \n",
       "1994-01-06           NaN           NaN           NaN           NaN    NaN  \n",
       "1994-01-07  17842.980469  18131.410156  17787.480469  18124.009766    0.0  \n",
       "1994-01-10  18186.519531  18567.060547  18186.519531  18443.439453    0.0  \n",
       "1994-01-11  18481.849609  18671.669922  18373.039062  18485.250000    0.0  \n",
       "1994-01-12  18447.339844  18807.080078  18301.929688  18793.880859    0.0  "
      ]
     },
     "execution_count": 5,
     "metadata": {},
     "output_type": "execute_result"
    }
   ],
   "source": [
    "raw_data.head()"
   ]
  },
  {
   "cell_type": "markdown",
   "metadata": {},
   "source": [
    "Building the final Dataframe from the **closing prices** of **S&P 500** stocks."
   ]
  },
  {
   "cell_type": "code",
   "execution_count": 6,
   "metadata": {
    "ExecuteTime": {
     "end_time": "2020-10-02T07:24:42.782816Z",
     "start_time": "2020-10-02T07:24:42.467366Z"
    }
   },
   "outputs": [],
   "source": [
    "# Making a backup dataframe\n",
    "df_comp = raw_data.copy()\n",
    "\n",
    "# Adding columns of interest to the new dataframe\n",
    "df_comp['spx'] = df_comp['^GSPC'].Close[:]\n",
    "\n",
    "# Final Dataframe\n",
    "data = df_comp[['spx']]\n",
    "\n",
    "# Making sure the data follows the periodicity of business days\n",
    "data = data.asfreq('b')"
   ]
  },
  {
   "cell_type": "markdown",
   "metadata": {},
   "source": [
    "# Preprocessing Data"
   ]
  },
  {
   "cell_type": "markdown",
   "metadata": {},
   "source": [
    "First few rows of the working dataframe."
   ]
  },
  {
   "cell_type": "code",
   "execution_count": 7,
   "metadata": {
    "ExecuteTime": {
     "end_time": "2020-10-02T07:24:42.798817Z",
     "start_time": "2020-10-02T07:24:42.782816Z"
    }
   },
   "outputs": [
    {
     "data": {
      "text/html": [
       "<div>\n",
       "<style scoped>\n",
       "    .dataframe tbody tr th:only-of-type {\n",
       "        vertical-align: middle;\n",
       "    }\n",
       "\n",
       "    .dataframe tbody tr th {\n",
       "        vertical-align: top;\n",
       "    }\n",
       "\n",
       "    .dataframe thead tr th {\n",
       "        text-align: left;\n",
       "    }\n",
       "\n",
       "    .dataframe thead tr:last-of-type th {\n",
       "        text-align: right;\n",
       "    }\n",
       "</style>\n",
       "<table border=\"1\" class=\"dataframe\">\n",
       "  <thead>\n",
       "    <tr>\n",
       "      <th></th>\n",
       "      <th>spx</th>\n",
       "    </tr>\n",
       "    <tr>\n",
       "      <th></th>\n",
       "      <th></th>\n",
       "    </tr>\n",
       "    <tr>\n",
       "      <th>Date</th>\n",
       "      <th></th>\n",
       "    </tr>\n",
       "  </thead>\n",
       "  <tbody>\n",
       "    <tr>\n",
       "      <th>1994-01-06</th>\n",
       "      <td>467.119995</td>\n",
       "    </tr>\n",
       "    <tr>\n",
       "      <th>1994-01-07</th>\n",
       "      <td>469.899994</td>\n",
       "    </tr>\n",
       "    <tr>\n",
       "      <th>1994-01-10</th>\n",
       "      <td>475.269989</td>\n",
       "    </tr>\n",
       "    <tr>\n",
       "      <th>1994-01-11</th>\n",
       "      <td>474.130005</td>\n",
       "    </tr>\n",
       "    <tr>\n",
       "      <th>1994-01-12</th>\n",
       "      <td>474.170013</td>\n",
       "    </tr>\n",
       "  </tbody>\n",
       "</table>\n",
       "</div>"
      ],
      "text/plain": [
       "                   spx\n",
       "                      \n",
       "Date                  \n",
       "1994-01-06  467.119995\n",
       "1994-01-07  469.899994\n",
       "1994-01-10  475.269989\n",
       "1994-01-11  474.130005\n",
       "1994-01-12  474.170013"
      ]
     },
     "execution_count": 7,
     "metadata": {},
     "output_type": "execute_result"
    }
   ],
   "source": [
    "data.head()"
   ]
  },
  {
   "cell_type": "markdown",
   "metadata": {},
   "source": [
    "## Handling Missing Values"
   ]
  },
  {
   "cell_type": "markdown",
   "metadata": {},
   "source": [
    "Statistical description of the dataset"
   ]
  },
  {
   "cell_type": "code",
   "execution_count": 8,
   "metadata": {
    "ExecuteTime": {
     "end_time": "2020-10-02T07:24:42.942815Z",
     "start_time": "2020-10-02T07:24:42.798817Z"
    }
   },
   "outputs": [
    {
     "data": {
      "text/html": [
       "<div>\n",
       "<style scoped>\n",
       "    .dataframe tbody tr th:only-of-type {\n",
       "        vertical-align: middle;\n",
       "    }\n",
       "\n",
       "    .dataframe tbody tr th {\n",
       "        vertical-align: top;\n",
       "    }\n",
       "\n",
       "    .dataframe thead tr th {\n",
       "        text-align: left;\n",
       "    }\n",
       "</style>\n",
       "<table border=\"1\" class=\"dataframe\">\n",
       "  <thead>\n",
       "    <tr>\n",
       "      <th></th>\n",
       "      <th>spx</th>\n",
       "    </tr>\n",
       "    <tr>\n",
       "      <th></th>\n",
       "      <th></th>\n",
       "    </tr>\n",
       "  </thead>\n",
       "  <tbody>\n",
       "    <tr>\n",
       "      <th>count</th>\n",
       "      <td>6459.000000</td>\n",
       "    </tr>\n",
       "    <tr>\n",
       "      <th>mean</th>\n",
       "      <td>1380.614234</td>\n",
       "    </tr>\n",
       "    <tr>\n",
       "      <th>std</th>\n",
       "      <td>595.236124</td>\n",
       "    </tr>\n",
       "    <tr>\n",
       "      <th>min</th>\n",
       "      <td>438.920013</td>\n",
       "    </tr>\n",
       "    <tr>\n",
       "      <th>25%</th>\n",
       "      <td>1023.675018</td>\n",
       "    </tr>\n",
       "    <tr>\n",
       "      <th>50%</th>\n",
       "      <td>1263.819946</td>\n",
       "    </tr>\n",
       "    <tr>\n",
       "      <th>75%</th>\n",
       "      <td>1562.484985</td>\n",
       "    </tr>\n",
       "    <tr>\n",
       "      <th>max</th>\n",
       "      <td>3025.860107</td>\n",
       "    </tr>\n",
       "  </tbody>\n",
       "</table>\n",
       "</div>"
      ],
      "text/plain": [
       "               spx\n",
       "                  \n",
       "count  6459.000000\n",
       "mean   1380.614234\n",
       "std     595.236124\n",
       "min     438.920013\n",
       "25%    1023.675018\n",
       "50%    1263.819946\n",
       "75%    1562.484985\n",
       "max    3025.860107"
      ]
     },
     "execution_count": 8,
     "metadata": {},
     "output_type": "execute_result"
    }
   ],
   "source": [
    "data.describe()"
   ]
  },
  {
   "cell_type": "markdown",
   "metadata": {},
   "source": [
    "Number of missing values in each column."
   ]
  },
  {
   "cell_type": "code",
   "execution_count": 9,
   "metadata": {
    "ExecuteTime": {
     "end_time": "2020-10-02T07:24:43.006820Z",
     "start_time": "2020-10-02T07:24:42.942815Z"
    }
   },
   "outputs": [
    {
     "data": {
      "text/plain": [
       "spx      233\n",
       "dtype: int64"
      ]
     },
     "execution_count": 9,
     "metadata": {},
     "output_type": "execute_result"
    }
   ],
   "source": [
    "data.isnull().sum()"
   ]
  },
  {
   "cell_type": "markdown",
   "metadata": {},
   "source": [
    "Using **Front Fill (ffill)** method in pandas."
   ]
  },
  {
   "cell_type": "code",
   "execution_count": 10,
   "metadata": {
    "ExecuteTime": {
     "end_time": "2020-10-02T07:24:43.150853Z",
     "start_time": "2020-10-02T07:24:43.006820Z"
    }
   },
   "outputs": [
    {
     "data": {
      "text/plain": [
       "spx      0\n",
       "dtype: int64"
      ]
     },
     "execution_count": 10,
     "metadata": {},
     "output_type": "execute_result"
    }
   ],
   "source": [
    "data.spx = data.spx.fillna(method='ffill')\n",
    "\n",
    "data.isna().sum()"
   ]
  },
  {
   "cell_type": "markdown",
   "metadata": {},
   "source": [
    "New Statistical Description of the dataset."
   ]
  },
  {
   "cell_type": "code",
   "execution_count": 11,
   "metadata": {
    "ExecuteTime": {
     "end_time": "2020-10-02T07:24:43.275381Z",
     "start_time": "2020-10-02T07:24:43.150853Z"
    }
   },
   "outputs": [
    {
     "data": {
      "text/html": [
       "<div>\n",
       "<style scoped>\n",
       "    .dataframe tbody tr th:only-of-type {\n",
       "        vertical-align: middle;\n",
       "    }\n",
       "\n",
       "    .dataframe tbody tr th {\n",
       "        vertical-align: top;\n",
       "    }\n",
       "\n",
       "    .dataframe thead tr th {\n",
       "        text-align: left;\n",
       "    }\n",
       "</style>\n",
       "<table border=\"1\" class=\"dataframe\">\n",
       "  <thead>\n",
       "    <tr>\n",
       "      <th></th>\n",
       "      <th>spx</th>\n",
       "    </tr>\n",
       "    <tr>\n",
       "      <th></th>\n",
       "      <th></th>\n",
       "    </tr>\n",
       "  </thead>\n",
       "  <tbody>\n",
       "    <tr>\n",
       "      <th>count</th>\n",
       "      <td>6692.000000</td>\n",
       "    </tr>\n",
       "    <tr>\n",
       "      <th>mean</th>\n",
       "      <td>1380.895551</td>\n",
       "    </tr>\n",
       "    <tr>\n",
       "      <th>std</th>\n",
       "      <td>594.732128</td>\n",
       "    </tr>\n",
       "    <tr>\n",
       "      <th>min</th>\n",
       "      <td>438.920013</td>\n",
       "    </tr>\n",
       "    <tr>\n",
       "      <th>25%</th>\n",
       "      <td>1024.077515</td>\n",
       "    </tr>\n",
       "    <tr>\n",
       "      <th>50%</th>\n",
       "      <td>1264.350037</td>\n",
       "    </tr>\n",
       "    <tr>\n",
       "      <th>75%</th>\n",
       "      <td>1562.477478</td>\n",
       "    </tr>\n",
       "    <tr>\n",
       "      <th>max</th>\n",
       "      <td>3025.860107</td>\n",
       "    </tr>\n",
       "  </tbody>\n",
       "</table>\n",
       "</div>"
      ],
      "text/plain": [
       "               spx\n",
       "                  \n",
       "count  6692.000000\n",
       "mean   1380.895551\n",
       "std     594.732128\n",
       "min     438.920013\n",
       "25%    1024.077515\n",
       "50%    1264.350037\n",
       "75%    1562.477478\n",
       "max    3025.860107"
      ]
     },
     "execution_count": 11,
     "metadata": {},
     "output_type": "execute_result"
    }
   ],
   "source": [
    "data.describe()"
   ]
  },
  {
   "cell_type": "markdown",
   "metadata": {},
   "source": [
    "## Calculating Price Returns"
   ]
  },
  {
   "cell_type": "markdown",
   "metadata": {},
   "source": [
    "For each market index the **Returns** at time **t** is defined as follows -\n",
    "\n",
    "$Returns(t) = \\frac{Price(t) - Price(t-1)}{Prices(t-1)} * 100$"
   ]
  },
  {
   "cell_type": "code",
   "execution_count": 12,
   "metadata": {
    "ExecuteTime": {
     "end_time": "2020-10-02T07:24:43.405311Z",
     "start_time": "2020-10-02T07:24:43.275381Z"
    }
   },
   "outputs": [],
   "source": [
    "data[\"spx_ret\"] = data.spx.pct_change(1).mul(100)"
   ]
  },
  {
   "cell_type": "markdown",
   "metadata": {},
   "source": [
    "New Dataframe after adding **Returns** for each market index."
   ]
  },
  {
   "cell_type": "code",
   "execution_count": 13,
   "metadata": {
    "ExecuteTime": {
     "end_time": "2020-10-02T07:24:43.525271Z",
     "start_time": "2020-10-02T07:24:43.405311Z"
    }
   },
   "outputs": [
    {
     "data": {
      "text/html": [
       "<div>\n",
       "<style scoped>\n",
       "    .dataframe tbody tr th:only-of-type {\n",
       "        vertical-align: middle;\n",
       "    }\n",
       "\n",
       "    .dataframe tbody tr th {\n",
       "        vertical-align: top;\n",
       "    }\n",
       "\n",
       "    .dataframe thead tr th {\n",
       "        text-align: left;\n",
       "    }\n",
       "\n",
       "    .dataframe thead tr:last-of-type th {\n",
       "        text-align: right;\n",
       "    }\n",
       "</style>\n",
       "<table border=\"1\" class=\"dataframe\">\n",
       "  <thead>\n",
       "    <tr>\n",
       "      <th></th>\n",
       "      <th>spx</th>\n",
       "      <th>spx_ret</th>\n",
       "    </tr>\n",
       "    <tr>\n",
       "      <th></th>\n",
       "      <th></th>\n",
       "      <th></th>\n",
       "    </tr>\n",
       "    <tr>\n",
       "      <th>Date</th>\n",
       "      <th></th>\n",
       "      <th></th>\n",
       "    </tr>\n",
       "  </thead>\n",
       "  <tbody>\n",
       "    <tr>\n",
       "      <th>1994-01-06</th>\n",
       "      <td>467.119995</td>\n",
       "      <td>NaN</td>\n",
       "    </tr>\n",
       "    <tr>\n",
       "      <th>1994-01-07</th>\n",
       "      <td>469.899994</td>\n",
       "      <td>0.595136</td>\n",
       "    </tr>\n",
       "    <tr>\n",
       "      <th>1994-01-10</th>\n",
       "      <td>475.269989</td>\n",
       "      <td>1.142795</td>\n",
       "    </tr>\n",
       "    <tr>\n",
       "      <th>1994-01-11</th>\n",
       "      <td>474.130005</td>\n",
       "      <td>-0.239860</td>\n",
       "    </tr>\n",
       "    <tr>\n",
       "      <th>1994-01-12</th>\n",
       "      <td>474.170013</td>\n",
       "      <td>0.008438</td>\n",
       "    </tr>\n",
       "  </tbody>\n",
       "</table>\n",
       "</div>"
      ],
      "text/plain": [
       "                   spx   spx_ret\n",
       "                                \n",
       "Date                            \n",
       "1994-01-06  467.119995       NaN\n",
       "1994-01-07  469.899994  0.595136\n",
       "1994-01-10  475.269989  1.142795\n",
       "1994-01-11  474.130005 -0.239860\n",
       "1994-01-12  474.170013  0.008438"
      ]
     },
     "execution_count": 13,
     "metadata": {},
     "output_type": "execute_result"
    }
   ],
   "source": [
    "data.head()"
   ]
  },
  {
   "cell_type": "markdown",
   "metadata": {
    "ExecuteTime": {
     "end_time": "2020-08-21T07:45:54.130263Z",
     "start_time": "2020-08-21T07:45:54.119291Z"
    }
   },
   "source": [
    "## Normalized Prices and Returns"
   ]
  },
  {
   "cell_type": "markdown",
   "metadata": {},
   "source": [
    "Normalizing the **Price** and **Returns** of each market index."
   ]
  },
  {
   "cell_type": "code",
   "execution_count": 14,
   "metadata": {
    "ExecuteTime": {
     "end_time": "2020-10-02T07:24:43.653272Z",
     "start_time": "2020-10-02T07:24:43.525271Z"
    }
   },
   "outputs": [],
   "source": [
    "min_max_scaler = preprocessing.MinMaxScaler()"
   ]
  },
  {
   "cell_type": "code",
   "execution_count": 15,
   "metadata": {
    "ExecuteTime": {
     "end_time": "2020-10-02T07:24:43.785554Z",
     "start_time": "2020-10-02T07:24:43.653272Z"
    }
   },
   "outputs": [],
   "source": [
    "data[\"spx_norm\"] = min_max_scaler.fit_transform(data.spx.values.reshape((-1, 1)))\n",
    "\n",
    "data[\"spx_ret_norm\"] = min_max_scaler.fit_transform(data.spx_ret.values.reshape((-1, 1)))"
   ]
  },
  {
   "cell_type": "markdown",
   "metadata": {},
   "source": [
    "New Dataframe after adding **Normalized Prices** and **Normalized Returns** for each market index."
   ]
  },
  {
   "cell_type": "code",
   "execution_count": 16,
   "metadata": {
    "ExecuteTime": {
     "end_time": "2020-10-02T07:24:43.897554Z",
     "start_time": "2020-10-02T07:24:43.785554Z"
    }
   },
   "outputs": [
    {
     "data": {
      "text/html": [
       "<div>\n",
       "<style scoped>\n",
       "    .dataframe tbody tr th:only-of-type {\n",
       "        vertical-align: middle;\n",
       "    }\n",
       "\n",
       "    .dataframe tbody tr th {\n",
       "        vertical-align: top;\n",
       "    }\n",
       "\n",
       "    .dataframe thead tr th {\n",
       "        text-align: left;\n",
       "    }\n",
       "\n",
       "    .dataframe thead tr:last-of-type th {\n",
       "        text-align: right;\n",
       "    }\n",
       "</style>\n",
       "<table border=\"1\" class=\"dataframe\">\n",
       "  <thead>\n",
       "    <tr>\n",
       "      <th></th>\n",
       "      <th>spx</th>\n",
       "      <th>spx_ret</th>\n",
       "      <th>spx_norm</th>\n",
       "      <th>spx_ret_norm</th>\n",
       "    </tr>\n",
       "    <tr>\n",
       "      <th></th>\n",
       "      <th></th>\n",
       "      <th></th>\n",
       "      <th></th>\n",
       "      <th></th>\n",
       "    </tr>\n",
       "    <tr>\n",
       "      <th>Date</th>\n",
       "      <th></th>\n",
       "      <th></th>\n",
       "      <th></th>\n",
       "      <th></th>\n",
       "    </tr>\n",
       "  </thead>\n",
       "  <tbody>\n",
       "    <tr>\n",
       "      <th>1994-01-06</th>\n",
       "      <td>467.119995</td>\n",
       "      <td>NaN</td>\n",
       "      <td>0.010901</td>\n",
       "      <td>NaN</td>\n",
       "    </tr>\n",
       "    <tr>\n",
       "      <th>1994-01-07</th>\n",
       "      <td>469.899994</td>\n",
       "      <td>0.595136</td>\n",
       "      <td>0.011976</td>\n",
       "      <td>0.467141</td>\n",
       "    </tr>\n",
       "    <tr>\n",
       "      <th>1994-01-10</th>\n",
       "      <td>475.269989</td>\n",
       "      <td>1.142795</td>\n",
       "      <td>0.014051</td>\n",
       "      <td>0.493707</td>\n",
       "    </tr>\n",
       "    <tr>\n",
       "      <th>1994-01-11</th>\n",
       "      <td>474.130005</td>\n",
       "      <td>-0.239860</td>\n",
       "      <td>0.013611</td>\n",
       "      <td>0.426636</td>\n",
       "    </tr>\n",
       "    <tr>\n",
       "      <th>1994-01-12</th>\n",
       "      <td>474.170013</td>\n",
       "      <td>0.008438</td>\n",
       "      <td>0.013626</td>\n",
       "      <td>0.438681</td>\n",
       "    </tr>\n",
       "  </tbody>\n",
       "</table>\n",
       "</div>"
      ],
      "text/plain": [
       "                   spx   spx_ret  spx_norm spx_ret_norm\n",
       "                                                       \n",
       "Date                                                   \n",
       "1994-01-06  467.119995       NaN  0.010901          NaN\n",
       "1994-01-07  469.899994  0.595136  0.011976     0.467141\n",
       "1994-01-10  475.269989  1.142795  0.014051     0.493707\n",
       "1994-01-11  474.130005 -0.239860  0.013611     0.426636\n",
       "1994-01-12  474.170013  0.008438  0.013626     0.438681"
      ]
     },
     "execution_count": 16,
     "metadata": {},
     "output_type": "execute_result"
    }
   ],
   "source": [
    "data.head()"
   ]
  },
  {
   "cell_type": "markdown",
   "metadata": {},
   "source": [
    "## Volatility (Squared Returns)"
   ]
  },
  {
   "cell_type": "markdown",
   "metadata": {},
   "source": [
    "Volatility in the returns of a market index are a measure of the stability in the index.\n",
    "\n",
    "$Volatility(t) = |Returns(t)|$"
   ]
  },
  {
   "cell_type": "code",
   "execution_count": 17,
   "metadata": {
    "ExecuteTime": {
     "end_time": "2020-10-02T07:24:44.062208Z",
     "start_time": "2020-10-02T07:24:43.897554Z"
    }
   },
   "outputs": [],
   "source": [
    "data[\"spx_vol\"] = data.spx_ret.abs()\n",
    "\n",
    "data[\"spx_vol_norm\"] = data.spx_ret_norm.abs()"
   ]
  },
  {
   "cell_type": "markdown",
   "metadata": {},
   "source": [
    "New Dataframe after adding **Volatility** of each market index."
   ]
  },
  {
   "cell_type": "code",
   "execution_count": 18,
   "metadata": {
    "ExecuteTime": {
     "end_time": "2020-10-02T07:24:44.206790Z",
     "start_time": "2020-10-02T07:24:44.082617Z"
    }
   },
   "outputs": [
    {
     "data": {
      "text/html": [
       "<div>\n",
       "<style scoped>\n",
       "    .dataframe tbody tr th:only-of-type {\n",
       "        vertical-align: middle;\n",
       "    }\n",
       "\n",
       "    .dataframe tbody tr th {\n",
       "        vertical-align: top;\n",
       "    }\n",
       "\n",
       "    .dataframe thead tr th {\n",
       "        text-align: left;\n",
       "    }\n",
       "\n",
       "    .dataframe thead tr:last-of-type th {\n",
       "        text-align: right;\n",
       "    }\n",
       "</style>\n",
       "<table border=\"1\" class=\"dataframe\">\n",
       "  <thead>\n",
       "    <tr>\n",
       "      <th></th>\n",
       "      <th>spx</th>\n",
       "      <th>spx_ret</th>\n",
       "      <th>spx_norm</th>\n",
       "      <th>spx_ret_norm</th>\n",
       "      <th>spx_vol</th>\n",
       "      <th>spx_vol_norm</th>\n",
       "    </tr>\n",
       "    <tr>\n",
       "      <th></th>\n",
       "      <th></th>\n",
       "      <th></th>\n",
       "      <th></th>\n",
       "      <th></th>\n",
       "      <th></th>\n",
       "      <th></th>\n",
       "    </tr>\n",
       "    <tr>\n",
       "      <th>Date</th>\n",
       "      <th></th>\n",
       "      <th></th>\n",
       "      <th></th>\n",
       "      <th></th>\n",
       "      <th></th>\n",
       "      <th></th>\n",
       "    </tr>\n",
       "  </thead>\n",
       "  <tbody>\n",
       "    <tr>\n",
       "      <th>1994-01-06</th>\n",
       "      <td>467.119995</td>\n",
       "      <td>NaN</td>\n",
       "      <td>0.010901</td>\n",
       "      <td>NaN</td>\n",
       "      <td>NaN</td>\n",
       "      <td>NaN</td>\n",
       "    </tr>\n",
       "    <tr>\n",
       "      <th>1994-01-07</th>\n",
       "      <td>469.899994</td>\n",
       "      <td>0.595136</td>\n",
       "      <td>0.011976</td>\n",
       "      <td>0.467141</td>\n",
       "      <td>0.595136</td>\n",
       "      <td>0.467141</td>\n",
       "    </tr>\n",
       "    <tr>\n",
       "      <th>1994-01-10</th>\n",
       "      <td>475.269989</td>\n",
       "      <td>1.142795</td>\n",
       "      <td>0.014051</td>\n",
       "      <td>0.493707</td>\n",
       "      <td>1.142795</td>\n",
       "      <td>0.493707</td>\n",
       "    </tr>\n",
       "    <tr>\n",
       "      <th>1994-01-11</th>\n",
       "      <td>474.130005</td>\n",
       "      <td>-0.239860</td>\n",
       "      <td>0.013611</td>\n",
       "      <td>0.426636</td>\n",
       "      <td>0.239860</td>\n",
       "      <td>0.426636</td>\n",
       "    </tr>\n",
       "    <tr>\n",
       "      <th>1994-01-12</th>\n",
       "      <td>474.170013</td>\n",
       "      <td>0.008438</td>\n",
       "      <td>0.013626</td>\n",
       "      <td>0.438681</td>\n",
       "      <td>0.008438</td>\n",
       "      <td>0.438681</td>\n",
       "    </tr>\n",
       "  </tbody>\n",
       "</table>\n",
       "</div>"
      ],
      "text/plain": [
       "                   spx   spx_ret  spx_norm spx_ret_norm   spx_vol spx_vol_norm\n",
       "                                                                              \n",
       "Date                                                                          \n",
       "1994-01-06  467.119995       NaN  0.010901          NaN       NaN          NaN\n",
       "1994-01-07  469.899994  0.595136  0.011976     0.467141  0.595136     0.467141\n",
       "1994-01-10  475.269989  1.142795  0.014051     0.493707  1.142795     0.493707\n",
       "1994-01-11  474.130005 -0.239860  0.013611     0.426636  0.239860     0.426636\n",
       "1994-01-12  474.170013  0.008438  0.013626     0.438681  0.008438     0.438681"
      ]
     },
     "execution_count": 18,
     "metadata": {},
     "output_type": "execute_result"
    }
   ],
   "source": [
    "data.head()"
   ]
  },
  {
   "cell_type": "markdown",
   "metadata": {},
   "source": [
    "## Exporting the Dataframe"
   ]
  },
  {
   "cell_type": "code",
   "execution_count": 19,
   "metadata": {
    "ExecuteTime": {
     "end_time": "2020-10-02T07:24:44.659266Z",
     "start_time": "2020-10-02T07:24:44.283303Z"
    }
   },
   "outputs": [],
   "source": [
    "data.reset_index().to_csv(\"data.csv\", index = False)\n",
    "pd.read_csv(\"data.csv\")[1:].to_csv(\"data.csv\", index = False)"
   ]
  },
  {
   "cell_type": "markdown",
   "metadata": {},
   "source": [
    "## Importing the Dataframe"
   ]
  },
  {
   "cell_type": "code",
   "execution_count": 20,
   "metadata": {
    "ExecuteTime": {
     "end_time": "2020-10-02T07:24:44.707266Z",
     "start_time": "2020-10-02T07:24:44.659266Z"
    }
   },
   "outputs": [],
   "source": [
    "data = pd.read_csv(\"data.csv\")\n",
    "data.Date = pd.to_datetime(data.Date)\n",
    "data.set_index(\"Date\", inplace = True)"
   ]
  },
  {
   "cell_type": "markdown",
   "metadata": {},
   "source": [
    "# Preliminary Data Visulaizations"
   ]
  },
  {
   "cell_type": "code",
   "execution_count": 21,
   "metadata": {
    "ExecuteTime": {
     "end_time": "2020-10-02T07:24:44.851618Z",
     "start_time": "2020-10-02T07:24:44.811618Z"
    }
   },
   "outputs": [
    {
     "data": {
      "text/html": [
       "<div>\n",
       "<style scoped>\n",
       "    .dataframe tbody tr th:only-of-type {\n",
       "        vertical-align: middle;\n",
       "    }\n",
       "\n",
       "    .dataframe tbody tr th {\n",
       "        vertical-align: top;\n",
       "    }\n",
       "\n",
       "    .dataframe thead th {\n",
       "        text-align: right;\n",
       "    }\n",
       "</style>\n",
       "<table border=\"1\" class=\"dataframe\">\n",
       "  <thead>\n",
       "    <tr style=\"text-align: right;\">\n",
       "      <th></th>\n",
       "      <th>spx</th>\n",
       "      <th>spx_ret</th>\n",
       "      <th>spx_norm</th>\n",
       "      <th>spx_ret_norm</th>\n",
       "      <th>spx_vol</th>\n",
       "      <th>spx_vol_norm</th>\n",
       "    </tr>\n",
       "    <tr>\n",
       "      <th>Date</th>\n",
       "      <th></th>\n",
       "      <th></th>\n",
       "      <th></th>\n",
       "      <th></th>\n",
       "      <th></th>\n",
       "      <th></th>\n",
       "    </tr>\n",
       "  </thead>\n",
       "  <tbody>\n",
       "    <tr>\n",
       "      <th>1994-01-06</th>\n",
       "      <td>467.119995</td>\n",
       "      <td>NaN</td>\n",
       "      <td>0.010901</td>\n",
       "      <td>NaN</td>\n",
       "      <td>NaN</td>\n",
       "      <td>NaN</td>\n",
       "    </tr>\n",
       "    <tr>\n",
       "      <th>1994-01-07</th>\n",
       "      <td>469.899994</td>\n",
       "      <td>0.595136</td>\n",
       "      <td>0.011976</td>\n",
       "      <td>0.467141</td>\n",
       "      <td>0.595136</td>\n",
       "      <td>0.467141</td>\n",
       "    </tr>\n",
       "    <tr>\n",
       "      <th>1994-01-10</th>\n",
       "      <td>475.269989</td>\n",
       "      <td>1.142795</td>\n",
       "      <td>0.014051</td>\n",
       "      <td>0.493707</td>\n",
       "      <td>1.142795</td>\n",
       "      <td>0.493707</td>\n",
       "    </tr>\n",
       "    <tr>\n",
       "      <th>1994-01-11</th>\n",
       "      <td>474.130005</td>\n",
       "      <td>-0.239860</td>\n",
       "      <td>0.013611</td>\n",
       "      <td>0.426636</td>\n",
       "      <td>0.239860</td>\n",
       "      <td>0.426636</td>\n",
       "    </tr>\n",
       "    <tr>\n",
       "      <th>1994-01-12</th>\n",
       "      <td>474.170013</td>\n",
       "      <td>0.008438</td>\n",
       "      <td>0.013626</td>\n",
       "      <td>0.438681</td>\n",
       "      <td>0.008438</td>\n",
       "      <td>0.438681</td>\n",
       "    </tr>\n",
       "  </tbody>\n",
       "</table>\n",
       "</div>"
      ],
      "text/plain": [
       "                   spx   spx_ret  spx_norm  spx_ret_norm   spx_vol  \\\n",
       "Date                                                                 \n",
       "1994-01-06  467.119995       NaN  0.010901           NaN       NaN   \n",
       "1994-01-07  469.899994  0.595136  0.011976      0.467141  0.595136   \n",
       "1994-01-10  475.269989  1.142795  0.014051      0.493707  1.142795   \n",
       "1994-01-11  474.130005 -0.239860  0.013611      0.426636  0.239860   \n",
       "1994-01-12  474.170013  0.008438  0.013626      0.438681  0.008438   \n",
       "\n",
       "            spx_vol_norm  \n",
       "Date                      \n",
       "1994-01-06           NaN  \n",
       "1994-01-07      0.467141  \n",
       "1994-01-10      0.493707  \n",
       "1994-01-11      0.426636  \n",
       "1994-01-12      0.438681  "
      ]
     },
     "execution_count": 21,
     "metadata": {},
     "output_type": "execute_result"
    }
   ],
   "source": [
    "data.head()"
   ]
  },
  {
   "cell_type": "markdown",
   "metadata": {},
   "source": [
    "The following line plots shows the trend of all columns of the dataframe above."
   ]
  },
  {
   "cell_type": "code",
   "execution_count": 22,
   "metadata": {
    "ExecuteTime": {
     "end_time": "2020-10-02T07:24:46.690134Z",
     "start_time": "2020-10-02T07:24:45.043769Z"
    }
   },
   "outputs": [
    {
     "data": {
      "image/png": "[encoded data removed]",
      "text/plain": [
       "<Figure size 1296x1296 with 6 Axes>"
      ]
     },
     "metadata": {},
     "output_type": "display_data"
    }
   ],
   "source": [
    "plt.rcParams[\"figure.figsize\"] = (18, 18)\n",
    "\n",
    "fig, ax = plt.subplots(3, 2)\n",
    "\n",
    "ax[0, 0].plot(data.spx, color = \"blue\", label = \"SPX\")\n",
    "ax[0, 0].set_title(\"SPX Prices\", size = 24)\n",
    "ax[0, 0].legend()\n",
    "\n",
    "ax[0, 1].plot(data.spx_norm, color = \"red\", label = \"Normalized SPX\")\n",
    "ax[0, 1].set_title(\"Normalized SPX Prices\", size = 24)\n",
    "ax[0, 1].legend()\n",
    "\n",
    "ax[1, 0].plot(data.spx_ret, color = \"blue\", label = \"SPX Returns\")\n",
    "ax[1, 0].set_title(\"SPX Returns\", size = 24)\n",
    "ax[1, 0].legend()\n",
    "\n",
    "ax[1, 1].plot(data.spx_ret_norm, color = \"red\", label = \"Normalized SPX Returns\")\n",
    "ax[1, 1].set_title(\"Normalized SPX Returns\", size = 24)\n",
    "ax[1, 1].legend()\n",
    "\n",
    "ax[2, 0].plot(data.spx_vol, color = \"blue\", label = \"SPX Volatility\")\n",
    "ax[2, 0].set_title(\"SPX Volatility\", size = 24)\n",
    "ax[2, 0].legend()\n",
    "\n",
    "ax[2, 1].plot(data.spx_vol_norm, color = \"red\", label = \"Normalized SPX Volatility\")\n",
    "ax[2, 1].set_title(\"Normalized SPX Volatility\", size = 24)\n",
    "ax[2, 1].legend()\n",
    "\n",
    "plt.show()"
   ]
  }
 ],
 "metadata": {
  "kernelspec": {
   "display_name": "Python 3",
   "language": "python",
   "name": "python3"
  },
  "language_info": {
   "codemirror_mode": {
    "name": "ipython",
    "version": 3
   },
   "file_extension": ".py",
   "mimetype": "text/x-python",
   "name": "python",
   "nbconvert_exporter": "python",
   "pygments_lexer": "ipython3",
   "version": "3.7.6"
  },
  "latex_envs": {
   "LaTeX_envs_menu_present": true,
   "autoclose": false,
   "autocomplete": true,
   "bibliofile": "biblio.bib",
   "cite_by": "apalike",
   "current_citInitial": 1,
   "eqLabelWithNumbers": true,
   "eqNumInitial": 1,
   "hotkeys": {
    "equation": "Ctrl-E",
    "itemize": "Ctrl-I"
   },
   "labels_anchors": false,
   "latex_user_defs": false,
   "report_style_numbering": false,
   "user_envs_cfg": false
  },
  "toc": {
   "base_numbering": 1,
   "nav_menu": {},
   "number_sections": true,
   "sideBar": true,
   "skip_h1_title": false,
   "title_cell": "Table of Contents",
   "title_sidebar": "Contents",
   "toc_cell": true,
   "toc_position": {},
   "toc_section_display": true,
   "toc_window_display": true
  }
 },
 "nbformat": 4,
 "nbformat_minor": 4
}
